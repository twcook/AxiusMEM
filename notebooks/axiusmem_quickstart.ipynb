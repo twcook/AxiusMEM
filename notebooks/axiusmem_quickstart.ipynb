{
 "cells": [
  {
   "cell_type": "markdown",
   "metadata": {},
   "source": [
    "# AxiusMEM™ Quickstart\n",
    "\n",
    "This notebook demonstrates how to get started with AxiusMEM™: loading the ontology, connecting to a triplestore, adding triples, and running queries."
   ]
  },
  {
   "cell_type": "code",
   "execution_count": 3,
   "metadata": {},
   "outputs": [
    {
     "name": "stdout",
     "output_type": "stream",
     "text": [
      "http://localhost:3030\n",
      "admin\n",
      "agents\n",
      "jena\n"
     ]
    }
   ],
   "source": [
    "# If running in Colab or a fresh environment, uncomment the following to install dependencies:\n",
    "# !pip install axiusmem python-dotenv rdflib pandas requests\n",
    "\n",
    "import os\n",
    "from dotenv import load_dotenv\n",
    "load_dotenv()\n",
    "\n",
    "from axiusmem import AxiusMEM, get_default_ontology_path\n",
    "print(os.getenv(\"TRIPLESTORE_URL\"))\n",
    "print(os.getenv(\"TRIPLESTORE_USER\"))\n",
    "print(os.getenv(\"TRIPLESTORE_REPOSITORY\"))\n",
    "print(os.getenv(\"TRIPLESTORE_TYPE\"))\n",
    "\n",
    "\n",
    "mem = AxiusMEM(ontology_path=get_default_ontology_path())\n",
    "\n",
    "\n"
   ]
  },
  {
   "cell_type": "markdown",
   "metadata": {},
   "source": [
    "## Load Ontology and Initialize AxiusMEM™"
   ]
  },
  {
   "cell_type": "code",
   "execution_count": 5,
   "metadata": {},
   "outputs": [
    {
     "name": "stdout",
     "output_type": "stream",
     "text": [
      "C:\\GitHub\\AxiusMEM\\src\\axiusmem\\axiusmem_ontology.ttl\n",
      "Ontology loaded.\n"
     ]
    }
   ],
   "source": [
    "# Path to your ontology file (adjust if needed)\n",
    "ontology_path = get_default_ontology_path()\n",
    "print(ontology_path)\n",
    "mem = AxiusMEM(ontology_path=ontology_path)\n",
    "print(\"Ontology loaded.\")"
   ]
  },
  {
   "cell_type": "markdown",
   "metadata": {},
   "source": [
    "## Connect to Triplestore"
   ]
  },
  {
   "cell_type": "code",
   "execution_count": 6,
   "metadata": {},
   "outputs": [
    {
     "name": "stdout",
     "output_type": "stream",
     "text": [
      "jena\n"
     ]
    }
   ],
   "source": [
    "from axiusmem import AxiusMEM\n",
    "from axiusmem.adapters.base import get_triplestore_adapter_from_env\n",
    "\n",
    "mem = AxiusMEM()\n",
    "adapter = get_triplestore_adapter_from_env()\n",
    "adapter.connect()  # Only needed for some adapters\n",
    "\n",
    "# Now you can use adapter.sparql_select(), adapter.sparql_update(), etc."
   ]
  },
  {
   "cell_type": "markdown",
   "metadata": {},
   "source": [
    "Check for the TRIPLESTORE REPOSITORY and load the ontology into it"
   ]
  },
  {
   "cell_type": "code",
   "execution_count": 7,
   "metadata": {},
   "outputs": [
    {
     "name": "stdout",
     "output_type": "stream",
     "text": [
      "jena\n",
      "Dataset 'agents' already exists (409 Conflict).\n",
      "Loaded ontology into dataset.\n"
     ]
    }
   ],
   "source": [
    "from axiusmem.adapters.base import get_triplestore_adapter_from_env\n",
    "from axiusmem import load_default_ontology\n",
    "import os\n",
    "\n",
    "repo = os.getenv(\"TRIPLESTORE_REPOSITORY\")\n",
    "adapter = get_triplestore_adapter_from_env()\n",
    "\n",
    "def ensure_graphdb_repo_and_load_ontology(adapter, repo):\n",
    "    resp = adapter.session.get(f\"{adapter.url}/rest/repositories\")\n",
    "    repos = [r['id'] for r in resp.json()]\n",
    "    if repo not in repos:\n",
    "        config = {\n",
    "            \"id\": repo,\n",
    "            \"title\": repo,\n",
    "            \"type\": \"free\",\n",
    "            \"params\": {\n",
    "                \"repositoryType\": \"file-repository\",\n",
    "                \"ruleset\": \"owl-horst-optimized\",\n",
    "                \"storage-folder\": f\"/tmp/{repo}\"\n",
    "            }\n",
    "        }\n",
    "        r = adapter.session.post(f\"{adapter.url}/rest/repositories\", json=config)\n",
    "        r.raise_for_status()\n",
    "        print(f\"Created GraphDB repository '{repo}'.\")\n",
    "    else:\n",
    "        print(f\"Repository '{repo}' already exists.\")\n",
    "    adapter.repository = repo\n",
    "    load_default_ontology(adapter)\n",
    "    print(\"Loaded ontology into repository.\")\n",
    "\n",
    "def ensure_jena_dataset_and_load_ontology(adapter, repo):\n",
    "    datasets = adapter.list_datasets()\n",
    "    dataset_names = [d['ds.name'] for d in datasets.get('datasets', [])]\n",
    "    if repo not in dataset_names:\n",
    "        try:\n",
    "            created = adapter.create_dataset(repo, db_type=\"mem\")\n",
    "            if created:\n",
    "                print(f\"Created Jena dataset '{repo}'.\")\n",
    "            else:\n",
    "                print(f\"Failed to create Jena dataset '{repo}'.\")\n",
    "        except Exception as e:\n",
    "            # If it's a 409 Conflict, treat as already exists\n",
    "            if hasattr(e, 'response') and getattr(e.response, 'status_code', None) == 409:\n",
    "                print(f\"Dataset '{repo}' already exists (409 Conflict).\")\n",
    "            else:\n",
    "                raise\n",
    "    else:\n",
    "        print(f\"Dataset '{repo}' already exists.\")\n",
    "    adapter.dataset = repo\n",
    "    load_default_ontology(adapter)\n",
    "    print(\"Loaded ontology into dataset.\")\n",
    "\n",
    "if adapter.__class__.__name__ == \"GraphDBAdapter\":\n",
    "    ensure_graphdb_repo_and_load_ontology(adapter, repo)\n",
    "elif adapter.__class__.__name__ == \"JenaAdapter\":\n",
    "    ensure_jena_dataset_and_load_ontology(adapter, repo)\n",
    "else:\n",
    "    print(\"Automatic repository/dataset creation not implemented for this adapter.\")"
   ]
  },
  {
   "cell_type": "markdown",
   "metadata": {},
   "source": [
    "## Add Example Triples"
   ]
  },
  {
   "cell_type": "code",
   "execution_count": 9,
   "metadata": {},
   "outputs": [
    {
     "name": "stdout",
     "output_type": "stream",
     "text": [
      "Added triple: Alice knows Bob\n"
     ]
    }
   ],
   "source": [
    "from rdflib import URIRef, Literal\n",
    "\n",
    "# Example triple: Alice knows Bob\n",
    "s = URIRef(\"https://axius.info/axiusmem/alice\")\n",
    "p = URIRef(\"http://xmlns.com/foaf/0.1/knows\")\n",
    "o = URIRef(\"https://axius.info/axiusmem/bob\")\n",
    "\n",
    "mem.add_triples([(s, p, o)])\n",
    "print(\"Added triple: Alice knows Bob\")"
   ]
  },
  {
   "cell_type": "markdown",
   "metadata": {},
   "source": [
    "## Query the Knowledge Graph"
   ]
  },
  {
   "cell_type": "code",
   "execution_count": 10,
   "metadata": {},
   "outputs": [
    {
     "name": "stdout",
     "output_type": "stream",
     "text": [
      "Query results:\n",
      "                                   s                                o\n",
      "0           http://example.org/alice           http://example.org/bob\n",
      "1  https://axius.info/axiusmem/alice  https://axius.info/axiusmem/bob\n"
     ]
    }
   ],
   "source": [
    "query = \"\"\"\n",
    "SELECT ?s ?o WHERE {\n",
    "  ?s <http://xmlns.com/foaf/0.1/knows> ?o .\n",
    "}\n",
    "\"\"\"\n",
    "results, df = mem.select(query)\n",
    "print(\"Query results:\")\n",
    "print(df)"
   ]
  },
  {
   "cell_type": "markdown",
   "metadata": {},
   "source": [
    "## (Optional) Add Valid Time to a Triple"
   ]
  },
  {
   "cell_type": "code",
   "execution_count": 11,
   "metadata": {},
   "outputs": [
    {
     "name": "stdout",
     "output_type": "stream",
     "text": [
      "Added triple with valid time.\n"
     ]
    }
   ],
   "source": [
    "from axiusmem.temporal import add_valid_time\n",
    "\n",
    "# Add a triple with valid time\n",
    "mem.add_triples([(s, p, o)], valid_time={\"from\": \"2024-01-01\", \"to\": \"2024-12-31\"})\n",
    "print(\"Added triple with valid time.\")"
   ]
  },
  {
   "cell_type": "markdown",
   "metadata": {},
   "source": [
    "## (Optional) Query with Temporal Reasoning"
   ]
  },
  {
   "cell_type": "code",
   "execution_count": 12,
   "metadata": {},
   "outputs": [
    {
     "name": "stdout",
     "output_type": "stream",
     "text": [
      "Triples valid on 2024-06-01:\n",
      "(rdflib.term.URIRef('https://axius.info/axiusmem/alice'), rdflib.term.URIRef('http://xmlns.com/foaf/0.1/knows'), rdflib.term.URIRef('https://axius.info/axiusmem/bob'))\n"
     ]
    }
   ],
   "source": [
    "from axiusmem.temporal import query_point_in_time\n",
    "\n",
    "# Query for triples valid at a specific time\n",
    "subgraph = query_point_in_time(mem.graph, \"2024-06-01\")\n",
    "print(\"Triples valid on 2024-06-01:\")\n",
    "for stmt in subgraph:\n",
    "    print(stmt)"
   ]
  }
 ],
 "metadata": {
  "kernelspec": {
   "display_name": "AxiusMEM",
   "language": "python",
   "name": "python3"
  },
  "language_info": {
   "codemirror_mode": {
    "name": "ipython",
    "version": 3
   },
   "file_extension": ".py",
   "mimetype": "text/x-python",
   "name": "python",
   "nbconvert_exporter": "python",
   "pygments_lexer": "ipython3",
   "version": "3.13.5"
  }
 },
 "nbformat": 4,
 "nbformat_minor": 2
}
